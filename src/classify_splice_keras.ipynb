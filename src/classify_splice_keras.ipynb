{
 "cells": [
  {
   "cell_type": "code",
   "execution_count": 1,
   "metadata": {},
   "outputs": [
    {
     "name": "stderr",
     "output_type": "stream",
     "text": [
      "Using TensorFlow backend.\n"
     ]
    }
   ],
   "source": [
    "####### import libraries and modules ########\n",
    "from seq_reader import load_data        # parsing data file\n",
    "from one_hot_rep import get_rep_mats, conv_labels   # converting to correct format\n",
    "\n",
    "from sklearn.model_selection import StratifiedKFold     # cross validation\n",
    "\n",
    "import numpy as np\n",
    "\n",
    "from keras.models import Sequential\n",
    "from keras.layers import Dense, Dropout, Activation, Flatten\n",
    "from keras.layers import Convolution2D, MaxPooling2D\n",
    "from keras.utils import np_utils\n",
    "from keras.datasets import mnist\n",
    "from keras.layers.normalization import BatchNormalization\n",
    "\n",
    "#############################################"
   ]
  },
  {
   "cell_type": "code",
   "execution_count": 2,
   "metadata": {},
   "outputs": [],
   "source": [
    "seed = 123          # for reproducibility\n",
    "np.random.seed(seed)"
   ]
  },
  {
   "cell_type": "code",
   "execution_count": 3,
   "metadata": {},
   "outputs": [],
   "source": [
    "# 1. Load data into train and test sets\n",
    "X, y = load_data(\"../data/splice.data.txt\")   # sequences, labels\n",
    "X = get_rep_mats(X)     # convert to array of representation matrices\n",
    "for i in X:             # CUSTOM reshape\n",
    "    for idx, j in enumerate(i):\n",
    "        i[idx] = j[0]\n",
    "y = conv_labels(y)      # convert to integer labels\n",
    "X = np.asarray(X)       # work with np arrays\n",
    "Y = np.asarray(y)"
   ]
  },
  {
   "cell_type": "code",
   "execution_count": null,
   "metadata": {},
   "outputs": [
    {
     "name": "stdout",
     "output_type": "stream",
     "text": [
      "====> FOLD [1]\n",
      "WARNING:tensorflow:From /home/jazay/keras/lib/python3.7/site-packages/tensorflow/python/framework/op_def_library.py:263: colocate_with (from tensorflow.python.framework.ops) is deprecated and will be removed in a future version.\n",
      "Instructions for updating:\n",
      "Colocations handled automatically by placer.\n",
      "(None, 96, 56, 62)\n",
      "WARNING:tensorflow:From /home/jazay/keras/lib/python3.7/site-packages/keras/backend/tensorflow_backend.py:3445: calling dropout (from tensorflow.python.ops.nn_ops) with keep_prob is deprecated and will be removed in a future version.\n",
      "Instructions for updating:\n",
      "Please use `rate` instead of `keep_prob`. Rate should be set to `rate = 1 - keep_prob`.\n",
      "WARNING:tensorflow:From /home/jazay/keras/lib/python3.7/site-packages/tensorflow/python/ops/math_ops.py:3066: to_int32 (from tensorflow.python.ops.math_ops) is deprecated and will be removed in a future version.\n",
      "Instructions for updating:\n",
      "Use tf.cast instead.\n",
      "Train on 80 samples, validate on 20 samples\n",
      "Epoch 1/1\n",
      "80/80 [==============================] - 19s 243ms/step - loss: 0.4390 - acc: 0.7250 - val_loss: 1.1921e-07 - val_acc: 1.0000\n",
      "20/20 [==============================] - 1s 41ms/step\n",
      "\n",
      "score = [1.1920928955078125e-07, 1.0]\n",
      "====> FOLD [2]\n",
      "(None, 96, 56, 62)\n",
      "Train on 80 samples, validate on 20 samples\n",
      "Epoch 1/1\n",
      "80/80 [==============================] - 18s 226ms/step - loss: 0.4356 - acc: 0.8625 - val_loss: 1.1921e-07 - val_acc: 1.0000\n",
      "20/20 [==============================] - 1s 40ms/step\n",
      "\n",
      "score = [1.1920928955078125e-07, 1.0]\n",
      "====> FOLD [3]\n",
      "(None, 96, 56, 62)\n",
      "Train on 80 samples, validate on 20 samples\n",
      "Epoch 1/1\n"
     ]
    }
   ],
   "source": [
    "# define 10-fold cross validation test harness\n",
    "kfold = StratifiedKFold(n_splits=5, shuffle=True, random_state=seed)\n",
    "scores = []\n",
    "\n",
    "for train, test in kfold.split(X, Y):\n",
    "    print (\"====> FOLD [\" + str(len(scores) + 1) + \"]\")\n",
    "    \n",
    "        # 2. Preprocess input data\n",
    "    X_train = X[train].reshape(X[train].shape[0], 1,58, 64)\n",
    "    X_test = X[test].reshape(X[test].shape[0], 1,58, 64)\n",
    "    X_train = X_train.astype('float32')\n",
    "    X_test = X_test.astype('float32')\n",
    "    \n",
    "    # 3. Preprocess class labels; i.e. convert 1-dimensional class arrays to 3-dimensional class matrices\n",
    "    Y_train = np_utils.to_categorical(Y[train], 3)   # goes from (2872,) to (2872, 3)\n",
    "    Y_test = np_utils.to_categorical(Y[test], 3)\n",
    "\n",
    "    # 4. Define model architecture\n",
    "    model = Sequential()\n",
    "    \n",
    "\n",
    "    #1st Convolution Layer\n",
    "    model.add(Convolution2D(96, (3, 3), activation='relu', input_shape=(1, 58, 64), data_format='channels_first'))\n",
    "    print (model.output_shape)\n",
    "    model.add(MaxPooling2D(pool_size=(2,2)))\n",
    "    #2nd Convolution Layer\n",
    "    model.add(Convolution2D(256, (3, 3), activation='relu',data_format='channels_first'))\n",
    "    model.add(MaxPooling2D(pool_size=(2,2)))\n",
    "    \n",
    "    #3rd Convolution Layer\n",
    "    model.add(Convolution2D(384, (3, 3), activation='relu', data_format='channels_first' ))\n",
    "    \n",
    "    #4th Convultion Layer\n",
    "    model.add(Convolution2D(384, (3, 3), activation='relu', data_format='channels_first' ))\n",
    "    #5th Convolution Layer\n",
    "    model.add(Convolution2D(256, (3, 3), activation='relu', data_format='channels_first' ))\n",
    "    model.add(MaxPooling2D(pool_size=(2,2)))\n",
    "\n",
    "    #model.add(Dropout(0.25))\n",
    "\n",
    "    model.add(Flatten())\n",
    "    #1st Dense layer\n",
    "    model.add(Dense(4096, activation='relu'))\n",
    "    model.add(Dropout(0.4))\n",
    "    \n",
    "    #2nd dense Layer\n",
    "    model.add(Dense(4096, activation='relu'))\n",
    "    model.add(Dropout(0.4))\n",
    "    #3rd dense Layer\n",
    "    model.add(Dense(1000, activation='relu'))\n",
    "    model.add(Dropout(0.4))\n",
    "              \n",
    "    #output layer    \n",
    "    model.add(Dense(3, activation='softmax'))\n",
    "    # 5. Compile model\n",
    "    model.compile(loss='categorical_crossentropy',\n",
    "                    optimizer='adam',\n",
    "                    metrics=['accuracy'])\n",
    "\n",
    "    # 6. Fit model on training data\n",
    "    model.fit(X_train, Y_train,validation_data=(X_test,Y_test),\n",
    "                  batch_size=32, epochs=1, verbose=1)\n",
    "\n",
    "    # 7. Evaluate model on test data\n",
    "    score = model.evaluate(X_test, Y_test, verbose=1)\n",
    "    scores.append(score[1]*100)     # accuracies only\n",
    "    print (\"\\nscore = \" + str(score))\n",
    "    \n",
    "# output aggregate results\n",
    "print(\"min: %.2f%%, average: %.2f%% (+/- %.2f%%), max: %.2f%%\" % (np.min(scores), np.mean(scores), np.std(scores), np.max(scores)))\n"
   ]
  },
  {
   "cell_type": "code",
   "execution_count": null,
   "metadata": {},
   "outputs": [],
   "source": []
  }
 ],
 "metadata": {
  "kernelspec": {
   "display_name": "Python 3",
   "language": "python",
   "name": "python3"
  },
  "language_info": {
   "codemirror_mode": {
    "name": "ipython",
    "version": 3
   },
   "file_extension": ".py",
   "mimetype": "text/x-python",
   "name": "python",
   "nbconvert_exporter": "python",
   "pygments_lexer": "ipython3",
   "version": "3.7.1"
  }
 },
 "nbformat": 4,
 "nbformat_minor": 2
}
