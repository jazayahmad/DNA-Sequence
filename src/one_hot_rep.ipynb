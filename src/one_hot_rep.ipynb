{
 "cells": [
  {
   "cell_type": "code",
   "execution_count": 10,
   "metadata": {},
   "outputs": [],
   "source": [
    "def word_seq(seq, k, stride=1):\n",
    "    i = 0\n",
    "    words = []\n",
    "    while i <= len(seq) - k:\n",
    "        words.append(seq[i: i + k])\n",
    "        i += stride\n",
    "    return words"
   ]
  },
  {
   "cell_type": "code",
   "execution_count": 11,
   "metadata": {},
   "outputs": [],
   "source": [
    "def create_dict(nucleotides):\n",
    "    vec_dict = {}\n",
    "    perms = k_len_perms(nucleotides, 3)\n",
    "    perms.sort()\n",
    "    for idx, seq in enumerate(perms):\n",
    "        hot_vec = [ 0 for i in range(0, len(perms))]\n",
    "        hot_vec[idx] = 1\n",
    "        vec_dict[seq] = hot_vec\n",
    "    return vec_dict"
   ]
  },
  {
   "cell_type": "code",
   "execution_count": 12,
   "metadata": {},
   "outputs": [],
   "source": [
    "def k_len_perms(letters, k):\n",
    "    n = len(letters)\n",
    "    perms = []\n",
    "    k_len_perms_hlpr(perms, letters, \"\", n, k)\n",
    "    return perms"
   ]
  },
  {
   "cell_type": "code",
   "execution_count": 13,
   "metadata": {},
   "outputs": [],
   "source": [
    "def k_len_perms_hlpr(perms, letters, prefix, n, k):\n",
    "    if (k == 0):\n",
    "        perms.append(prefix)\n",
    "        return\n",
    "    for i in range(0, n):\n",
    "        newPrefix = prefix + letters[i]\n",
    "        k_len_perms_hlpr(perms, letters, newPrefix, n, k - 1)"
   ]
  },
  {
   "cell_type": "code",
   "execution_count": 14,
   "metadata": {},
   "outputs": [],
   "source": [
    "def create_rep_mat(words, hot_vec_dict, r_size):\n",
    "    mat_len = len(words) - r_size + 1\n",
    "    mat = [[] for i in range(0, mat_len)]\n",
    "    i = 0\n",
    "    while i < mat_len:\n",
    "        j = i\n",
    "        while j < i + r_size:\n",
    "            mat[i].append(hot_vec_dict[words[j]])\n",
    "            j += 1\n",
    "        i += 1\n",
    "    return mat"
   ]
  },
  {
   "cell_type": "code",
   "execution_count": 15,
   "metadata": {},
   "outputs": [],
   "source": [
    "def get_rep_mat(seq, hot_vec_dict, k=3, r_size=2):\n",
    "    words = word_seq(seq, k)\n",
    "    rep_mat = create_rep_mat(words, hot_vec_dict, r_size)\n",
    "    return rep_mat"
   ]
  },
  {
   "cell_type": "code",
   "execution_count": 16,
   "metadata": {},
   "outputs": [],
   "source": [
    "def get_rep_mats(seqs):\n",
    "    rep_mats = []\n",
    "    hot_vec_dict = create_dict('ACGT')\n",
    "    for seq in seqs:\n",
    "        rep_mat = get_rep_mat(seq, hot_vec_dict, k=3, r_size=1)\n",
    "        rep_mats.append(rep_mat)\n",
    "    return rep_mats"
   ]
  },
  {
   "cell_type": "code",
   "execution_count": 17,
   "metadata": {},
   "outputs": [],
   "source": [
    "def conv_labels(labels, dataset='splice'):\n",
    "    converted = []\n",
    "    for label in labels:\n",
    "        if dataset == 'splice':\n",
    "            if label == 'EI':\n",
    "                converted.append(0)\n",
    "            elif label == 'IE':\n",
    "                converted.append(1)\n",
    "            elif label == 'N':\n",
    "                converted.append(2)\n",
    "        elif dataset == 'promoter':\n",
    "            if label =='+':\n",
    "                converted.append(0)\n",
    "            elif label == '-':\n",
    "                converted.append(1)\n",
    "    return converted"
   ]
  },
  {
   "cell_type": "code",
   "execution_count": 18,
   "metadata": {},
   "outputs": [],
   "source": [
    "if __name__ == \"__main__\":\n",
    "    # running on a test sequence matching example in paper\n",
    "    seq = 'ACCGATTATGCA'\n",
    "    words = word_seq(seq, 3)\n",
    "    hot_vec_dict = create_dict('ACGT')\n",
    "    rep_mat = create_rep_mat(words, hot_vec_dict, 2)"
   ]
  }
 ],
 "metadata": {
  "kernelspec": {
   "display_name": "Python 3",
   "language": "python",
   "name": "python3"
  },
  "language_info": {
   "codemirror_mode": {
    "name": "ipython",
    "version": 3
   },
   "file_extension": ".py",
   "mimetype": "text/x-python",
   "name": "python",
   "nbconvert_exporter": "python",
   "pygments_lexer": "ipython3",
   "version": "3.7.1"
  }
 },
 "nbformat": 4,
 "nbformat_minor": 2
}
