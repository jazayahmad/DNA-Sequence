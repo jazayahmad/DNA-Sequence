{
 "cells": [
  {
   "cell_type": "code",
   "execution_count": 6,
   "metadata": {},
   "outputs": [],
   "source": [
    "# for `main`\n",
    "from one_hot_rep import get_rep_mats, conv_labels"
   ]
  },
  {
   "cell_type": "code",
   "execution_count": 7,
   "metadata": {},
   "outputs": [],
   "source": [
    "def load_data(fname):\n",
    "    seqs = []\n",
    "    labels = []\n",
    "    f = open(fname)\n",
    "    for line in f:\n",
    "        line_no_wspace = line.replace(\" \",\"\")\n",
    "        line_no_nwline = line_no_wspace.replace(\"\\n\",\"\")\n",
    "        line_arr = line_no_nwline.split(\",\")\n",
    "        label = line_arr[0]\n",
    "        seq = line_arr[2]\n",
    "        # sequence cleaning\n",
    "        seq = seq.upper()    # b/c rep matrix built on uppercase\n",
    "        seq = seq.replace(\"\\t\",\"\")      # present in promoter \n",
    "        seq = seq.replace(\"N\",\"A\")  # undetermined nucleotides in splice\n",
    "        seq = seq.replace(\"D\",\"G\")\n",
    "        seq = seq.replace(\"S\",\"C\")\n",
    "        seq = seq.replace(\"R\",\"G\")\n",
    "        #####\n",
    "        labels.append(label)\n",
    "        seqs.append(seq)\n",
    "    f.close()\n",
    "    return seqs, labels"
   ]
  },
  {
   "cell_type": "code",
   "execution_count": 11,
   "metadata": {},
   "outputs": [
    {
     "name": "stdout",
     "output_type": "stream",
     "text": [
      "3190\n",
      "3190\n"
     ]
    }
   ],
   "source": [
    "if __name__ == \"__main__\":\n",
    "    # reading in splice junction input data and converting to required format\n",
    "    seqs, labels = load_data(\"../data/splice.data.txt\")\n",
    "    lbls_mod = conv_labels(labels)\n",
    "    seqs_mod = get_rep_mats(seqs)\n",
    "    print (len(seqs_mod))\n",
    "    print (len(lbls_mod))"
   ]
  },
  {
   "cell_type": "code",
   "execution_count": null,
   "metadata": {},
   "outputs": [],
   "source": []
  }
 ],
 "metadata": {
  "kernelspec": {
   "display_name": "Python 3",
   "language": "python",
   "name": "python3"
  },
  "language_info": {
   "codemirror_mode": {
    "name": "ipython",
    "version": 3
   },
   "file_extension": ".py",
   "mimetype": "text/x-python",
   "name": "python",
   "nbconvert_exporter": "python",
   "pygments_lexer": "ipython3",
   "version": "3.7.1"
  }
 },
 "nbformat": 4,
 "nbformat_minor": 2
}
